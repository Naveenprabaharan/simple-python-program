{
 "cells": [
  {
   "cell_type": "code",
   "execution_count": 22,
   "id": "2df64437",
   "metadata": {},
   "outputs": [
    {
     "name": "stdout",
     "output_type": "stream",
     "text": [
      "vales :  [0, 1, 4, 9]\n",
      "vales :  [0, 0, 1, 4, 9, 9]\n",
      "vales :  []\n"
     ]
    }
   ],
   "source": [
    "def sarray(a):\n",
    "    b = [x**2 for x in a]\n",
    "    b.sort()\n",
    "    return b\n",
    "\n",
    "\n",
    "print(\"vales : \",sarray([0,1,2,3]))\n",
    "print(\"vales : \",sarray([-1,-2,0,0,3,3]))\n",
    "print(\"vales : \",sarray([]))"
   ]
  },
  {
   "cell_type": "code",
   "execution_count": 9,
   "id": "ab9c5792",
   "metadata": {},
   "outputs": [
    {
     "name": "stdout",
     "output_type": "stream",
     "text": [
      "[1, 4, 9]\n"
     ]
    }
   ],
   "source": [
    "a = [x**2 for x in [1,2,3]]\n",
    "print(a)\n",
    "\n"
   ]
  }
 ],
 "metadata": {
  "kernelspec": {
   "display_name": "Python 3 (ipykernel)",
   "language": "python",
   "name": "python3"
  },
  "language_info": {
   "codemirror_mode": {
    "name": "ipython",
    "version": 3
   },
   "file_extension": ".py",
   "mimetype": "text/x-python",
   "name": "python",
   "nbconvert_exporter": "python",
   "pygments_lexer": "ipython3",
   "version": "3.9.7"
  }
 },
 "nbformat": 4,
 "nbformat_minor": 5
}
